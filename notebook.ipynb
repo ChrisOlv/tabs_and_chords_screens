{
 "cells": [
  {
   "cell_type": "markdown",
   "metadata": {},
   "source": [
    "method 2 : ok\n",
    "la doc : https://shot-scraper.datasette.io/en/stable/screenshots.html\n",
    "\n"
   ]
  },
  {
   "cell_type": "code",
   "execution_count": null,
   "metadata": {},
   "outputs": [
    {
     "name": "stdout",
     "output_type": "stream",
     "text": [
      "Collecting shot-scraper\n",
      "  Using cached shot_scraper-1.5-py3-none-any.whl.metadata (4.5 kB)\n",
      "Collecting click (from shot-scraper)\n",
      "  Using cached click-8.1.7-py3-none-any.whl.metadata (3.0 kB)\n",
      "Collecting PyYAML (from shot-scraper)\n",
      "  Using cached PyYAML-6.0.2-cp312-cp312-win_amd64.whl.metadata (2.1 kB)\n",
      "Collecting playwright (from shot-scraper)\n",
      "  Using cached playwright-1.49.0-py3-none-win_amd64.whl.metadata (3.5 kB)\n",
      "Collecting click-default-group (from shot-scraper)\n",
      "  Using cached click_default_group-1.2.4-py2.py3-none-any.whl.metadata (2.8 kB)\n",
      "Requirement already satisfied: colorama in .\\.venv\\lib\\site-packages (from click->shot-scraper) (0.4.6)\n",
      "Collecting greenlet==3.1.1 (from playwright->shot-scraper)\n",
      "  Using cached greenlet-3.1.1-cp312-cp312-win_amd64.whl.metadata (3.9 kB)\n",
      "Collecting pyee==12.0.0 (from playwright->shot-scraper)\n",
      "  Using cached pyee-12.0.0-py3-none-any.whl.metadata (2.8 kB)\n",
      "Collecting typing-extensions (from pyee==12.0.0->playwright->shot-scraper)\n",
      "  Using cached typing_extensions-4.12.2-py3-none-any.whl.metadata (3.0 kB)\n",
      "Using cached shot_scraper-1.5-py3-none-any.whl (16 kB)\n",
      "Using cached click-8.1.7-py3-none-any.whl (97 kB)\n",
      "Using cached click_default_group-1.2.4-py2.py3-none-any.whl (4.1 kB)\n",
      "Using cached playwright-1.49.0-py3-none-win_amd64.whl (34.0 MB)\n",
      "Using cached greenlet-3.1.1-cp312-cp312-win_amd64.whl (299 kB)\n",
      "Using cached pyee-12.0.0-py3-none-any.whl (14 kB)\n",
      "Using cached PyYAML-6.0.2-cp312-cp312-win_amd64.whl (156 kB)\n",
      "Using cached typing_extensions-4.12.2-py3-none-any.whl (37 kB)\n",
      "Installing collected packages: typing-extensions, PyYAML, greenlet, click, pyee, click-default-group, playwright, shot-scraper\n",
      "Successfully installed PyYAML-6.0.2 click-8.1.7 click-default-group-1.2.4 greenlet-3.1.1 playwright-1.49.0 pyee-12.0.0 shot-scraper-1.5 typing-extensions-4.12.2\n"
     ]
    }
   ],
   "source": [
    "! pip install shot-scraper\n",
    "! shot-scraper install"
   ]
  },
  {
   "cell_type": "markdown",
   "metadata": {},
   "source": [
    "dans une fonction :"
   ]
  },
  {
   "cell_type": "code",
   "execution_count": null,
   "metadata": {},
   "outputs": [],
   "source": [
    "def capture_song_page(url, height=58000):\n",
    "    \"\"\"\n",
    "    Capture une section spécifique d'une page web et génère un fichier de sortie avec un nom formaté.\n",
    "    \n",
    "    Paramètres :\n",
    "    - url (str) : L'URL de la page web à capturer.\n",
    "    - height (int, optionnel) : Hauteur maximale de la capture (par défaut : 58000 pixels).\n",
    "    \n",
    "    Sortie :\n",
    "    - Crée un fichier image avec le nom formaté.\n",
    "    \"\"\"\n",
    "    # Étape 1 : Extraire le titre (partie après le dernier \"/\")\n",
    "    title = url.split(\"/\")[-1]\n",
    "\n",
    "    # Étape 2 : Formater le nom de la chanson (supprimer les suffixes et remplacer les tirets par des espaces)\n",
    "    song_name = \"-\".join(title.split(\"-\")[:-2]).replace(\"-\", \" \")\n",
    "\n",
    "    # Étape 3 : Extraire le nom de l'artiste (avant le titre dans l'URL)\n",
    "    artist = url.split(\"/\")[-2]\n",
    "\n",
    "    # Étape 4 : Construire le nom du fichier de sortie avec un format \"artiste - chanson\"\n",
    "    output_filename = f\"{artist} - {song_name}.png\"\n",
    "\n",
    "    # Étape 5 : Exécuter la commande shot-scraper avec les paramètres fournis\n",
    "    command = f'shot-scraper {url} -s .P8ReX --height {height} -o \"{output_filename}\"'\n",
    "    print(f\"Exécution de la commande : {command}\")\n",
    "    ! {command}\n",
    "\n",
    "    return output_filename\n"
   ]
  },
  {
   "cell_type": "code",
   "execution_count": 43,
   "metadata": {},
   "outputs": [],
   "source": [
    "url = \"https://tabs.ultimate-guitar.com/tab/wham/last-christmas-chords-169565\""
   ]
  },
  {
   "cell_type": "code",
   "execution_count": null,
   "metadata": {},
   "outputs": [
    {
     "name": "stdout",
     "output_type": "stream",
     "text": [
      "Exécution de la commande : shot-scraper https://tabs.ultimate-guitar.com/tab/wham/last-christmas-chords-169565 -s .P8ReX --height 58000 -o \"wham - last christmas.png\"\n"
     ]
    },
    {
     "name": "stderr",
     "output_type": "stream",
     "text": [
      "Screenshot of '.P8ReX' on 'https://tabs.ultimate-guitar.com/tab/wham/last-christmas-chords-169565' written to 'wham - last christmas.png'\n"
     ]
    }
   ],
   "source": [
    "# call function\n",
    "output_file = capture_song_page(url) #possible d'ajouter height pour éviter d'avoir le pop up capturé"
   ]
  },
  {
   "cell_type": "markdown",
   "metadata": {},
   "source": [
    "avec la création du markdown file : \n"
   ]
  },
  {
   "cell_type": "code",
   "execution_count": 53,
   "metadata": {},
   "outputs": [],
   "source": [
    "import os\n",
    "\n",
    "def create_markdown_with_image(url, height=58000, output_dir=\"img\"):\n",
    "    \"\"\"\n",
    "    Capture une page web, stocke l'image dans un répertoire, et génère un fichier Markdown avec l'image.\n",
    "    \n",
    "    Paramètres :\n",
    "    - url (str) : L'URL de la page web à capturer.\n",
    "    - selector (str) : Le sélecteur CSS de la partie à capturer.\n",
    "    - height (int, optionnel) : Hauteur maximale de la capture (par défaut : 58000 pixels).\n",
    "    - output_dir (str, optionnel) : Répertoire où l'image sera stockée (par défaut : \"img\").\n",
    "    \n",
    "    Sortie :\n",
    "    - Le fichier Markdown est créé avec l'image référencée.\n",
    "    \"\"\"\n",
    "    # Étape 1 : Extraire le titre (partie après le dernier \"/\")\n",
    "    title = url.split(\"/\")[-1]\n",
    "\n",
    "    # Étape 2 : Formater le nom de la chanson (supprimer les suffixes et remplacer les tirets par des espaces)\n",
    "    song_name = \"-\".join(title.split(\"-\")[:-2]).replace(\"-\", \" \")\n",
    "\n",
    "    # Étape 3 : Extraire le nom de l'artiste\n",
    "    artist = url.split(\"/\")[-2]\n",
    "\n",
    "    # Étape 4 : Construire le nom du fichier image et Markdown\n",
    "    output_filename = f\"{artist} - {song_name}.png\"\n",
    "    markdown_title = f\"{artist} - {song_name}\"\n",
    "    markdown_filename = f\"{artist} - {song_name}.md\"\n",
    "\n",
    "    # Étape 5 : Vérifier et créer le répertoire \"img\" s'il n'existe pas\n",
    "    if not os.path.exists(output_dir):\n",
    "        os.makedirs(output_dir)\n",
    "\n",
    "    # Étape 6 : Construire le chemin de sortie pour l'image\n",
    "    image_path = os.path.join(output_dir, output_filename)\n",
    "\n",
    "    # Étape 7 : Exécuter la commande shot-scraper\n",
    "    command = f'shot-scraper {url} -s .P8ReX  --height {height} -o \"{image_path}\"'\n",
    "    print(f\"Exécution de la commande : {command}\")\n",
    "    ! {command}\n",
    "\n",
    "    # Étape 8 : Créer le contenu du fichier Markdown\n",
    "    markdown_content = f\"# {markdown_title}\\n\\n![[{output_dir}/{output_filename}]]\\n\"\n",
    "\n",
    "    # Étape 9 : Écrire le fichier Markdown\n",
    "    with open(markdown_filename, \"w\", encoding=\"utf-8\") as md_file:\n",
    "        md_file.write(markdown_content)\n",
    "\n",
    "    print(f\"Fichier Markdown créé : {markdown_filename}\")\n",
    "    return markdown_filename\n"
   ]
  },
  {
   "cell_type": "code",
   "execution_count": 54,
   "metadata": {},
   "outputs": [
    {
     "name": "stdout",
     "output_type": "stream",
     "text": [
      "Exécution de la commande : shot-scraper https://tabs.ultimate-guitar.com/tab/wham/last-christmas-chords-169565 -s .P8ReX  --height 58000 -o \"img\\wham - last christmas.png\"\n",
      "Fichier Markdown créé : wham - last christmas.md\n",
      "Fichier Markdown généré : wham - last christmas.md\n"
     ]
    },
    {
     "name": "stderr",
     "output_type": "stream",
     "text": [
      "Screenshot of '.P8ReX' on 'https://tabs.ultimate-guitar.com/tab/wham/last-christmas-chords-169565' written to 'img\\wham - last christmas.png'\n"
     ]
    }
   ],
   "source": [
    "url = \"https://tabs.ultimate-guitar.com/tab/wham/last-christmas-chords-169565\"\n",
    "\n",
    "\n",
    "# Appeler la fonction\n",
    "markdown_file = create_markdown_with_image(url)\n",
    "\n",
    "print(f\"Fichier Markdown généré : {markdown_file}\")\n"
   ]
  },
  {
   "cell_type": "code",
   "execution_count": 65,
   "metadata": {},
   "outputs": [],
   "source": [
    "import os\n",
    "from datetime import datetime\n",
    "\n",
    "def create_markdown_with_image(url, height=58000, markdown_dir=\"D:/9. NAS drive/Smartnotes/Smartnotes2024/30.interets/31. Guitare\", image_dir=\"D:/9. NAS drive/Smartnotes/Smartnotes2024/30.interets/31. Guitare/img\"):\n",
    "    \"\"\"\n",
    "    Capture une page web, stocke l'image dans un répertoire, et génère un fichier Markdown avec l'image.\n",
    "    \n",
    "    Paramètres :\n",
    "    - url (str) : L'URL de la page web à capturer.\n",
    "    - height (int, optionnel) : Hauteur maximale de la capture (par défaut : 58000 pixels).\n",
    "    - markdown_dir (str, optionnel) : Répertoire où le fichier Markdown sera stocké (par défaut : \"D:/9. NAS drive/Smartnotes/Smartnotes2024/30.interets/31. Guitare\").\n",
    "    - image_dir (str, optionnel) : Répertoire où l'image sera stockée (par défaut : \"D:/9. NAS drive/Smartnotes/Smartnotes2024/30.interets/31. Guitare/img\").\n",
    "    \n",
    "    Sortie :\n",
    "    - Le fichier Markdown est créé avec l'image référencée.\n",
    "    \"\"\"\n",
    "    # Étape 1 : Extraire le titre (partie après le dernier \"/\")\n",
    "    title = url.split(\"/\")[-1]\n",
    "\n",
    "    # Étape 2 : Formater le nom de la chanson (supprimer les suffixes et remplacer les tirets par des espaces)\n",
    "    song_name = \"-\".join(title.split(\"-\")[:-2]).replace(\"-\", \" \")\n",
    "\n",
    "    # Étape 3 : Extraire le nom de l'artiste\n",
    "    artist = url.split(\"/\")[-2]\n",
    "\n",
    "    # Étape 4 : Construire le nom du fichier image et Markdown\n",
    "    output_filename = f\"{artist} - {song_name}.png\"\n",
    "    markdown_title = f\"{artist} - {song_name}\"\n",
    "    markdown_filename = f\"{artist} - {song_name}.md\"\n",
    "\n",
    "    # Étape 5 : Vérifier et créer les répertoires \"img\" et \"markdown\" s'ils n'existent pas\n",
    "    if not os.path.exists(image_dir):\n",
    "        os.makedirs(image_dir)\n",
    "\n",
    "    # Étape 6 : Construire le chemin de sortie pour l'image et le fichier Markdown\n",
    "    image_path = os.path.join(image_dir, output_filename)\n",
    "    markdown_path = os.path.join(markdown_dir, markdown_filename)\n",
    "\n",
    "    # Étape 7 : Exécuter la commande shot-scraper avec le sélecteur fixe\n",
    "    command = f'shot-scraper {url} -s .P8ReX --height {height} -o \"{image_path}\"'\n",
    "    print(f\"Exécution de la commande : {command}\")\n",
    "    os.system(command)\n",
    "\n",
    "    # Étape 8 : Obtenir la date d'aujourd'hui\n",
    "    current_date = datetime.today().strftime('%Y-%m-%d')\n",
    "\n",
    "    # Étape 9 : Créer le contenu du fichier Markdown avec le nom de fichier image relatif\n",
    "    markdown_content = f\"\"\"---\n",
    "title: {song_name}\n",
    "artiste: \"[[{artist}]]\"\n",
    "date: {current_date}\n",
    "---\n",
    "![[{output_filename}]]\n",
    "\"\"\"\n",
    "\n",
    "    # Étape 10 : Écrire le fichier Markdown\n",
    "    with open(markdown_path, \"w\", encoding=\"utf-8\") as md_file:\n",
    "        md_file.write(markdown_content)\n",
    "\n",
    "    print(f\"Fichier Markdown créé : {markdown_path}\")\n",
    "    return markdown_path"
   ]
  },
  {
   "cell_type": "code",
   "execution_count": 68,
   "metadata": {},
   "outputs": [
    {
     "name": "stdout",
     "output_type": "stream",
     "text": [
      "Exécution de la commande : shot-scraper https://tabs.ultimate-guitar.com/tab/john-denver/take-me-home-country-roads-chords-1101747 -s .P8ReX --height 58000 -o \"D:/9. NAS drive/Smartnotes/Smartnotes2024/30.interets/31. Guitare/img\\john-denver - take me home country roads.png\"\n",
      "Fichier Markdown créé : D:/9. NAS drive/Smartnotes/Smartnotes2024/30.interets/31. Guitare\\john-denver - take me home country roads.md\n",
      "Fichier Markdown généré : D:/9. NAS drive/Smartnotes/Smartnotes2024/30.interets/31. Guitare\\john-denver - take me home country roads.md\n"
     ]
    }
   ],
   "source": [
    "# execution\n",
    "\n",
    "url = \"https://tabs.ultimate-guitar.com/tab/john-denver/take-me-home-country-roads-chords-1101747\"\n",
    "\n",
    "\n",
    "markdown_file = create_markdown_with_image(url)\n",
    "print(f\"Fichier Markdown généré : {markdown_file}\")"
   ]
  },
  {
   "cell_type": "code",
   "execution_count": 69,
   "metadata": {},
   "outputs": [
    {
     "name": "stderr",
     "output_type": "stream",
     "text": [
      "usage: jupyter [-h] [--version] [--config-dir] [--data-dir] [--runtime-dir]\n",
      "               [--paths] [--json] [--debug]\n",
      "               [subcommand]\n",
      "\n",
      "Jupyter: Interactive Computing\n",
      "\n",
      "positional arguments:\n",
      "  subcommand     the subcommand to launch\n",
      "\n",
      "options:\n",
      "  -h, --help     show this help message and exit\n",
      "  --version      show the versions of core jupyter packages and exit\n",
      "  --config-dir   show Jupyter config dir\n",
      "  --data-dir     show Jupyter data dir\n",
      "  --runtime-dir  show Jupyter runtime dir\n",
      "  --paths        show all Jupyter paths. Add --json for machine-readable\n",
      "                 format.\n",
      "  --json         output paths as machine-readable json\n",
      "  --debug        output debug information about paths\n",
      "\n",
      "Available subcommands: kernel kernelspec migrate run troubleshoot\n",
      "\n",
      "Jupyter command `jupyter-nbconvert` not found.\n"
     ]
    }
   ],
   "source": [
    "! jupyter nbconvert --to script notebook.ipynb"
   ]
  }
 ],
 "metadata": {
  "kernelspec": {
   "display_name": ".venv",
   "language": "python",
   "name": "python3"
  },
  "language_info": {
   "codemirror_mode": {
    "name": "ipython",
    "version": 3
   },
   "file_extension": ".py",
   "mimetype": "text/x-python",
   "name": "python",
   "nbconvert_exporter": "python",
   "pygments_lexer": "ipython3",
   "version": "3.12.6"
  }
 },
 "nbformat": 4,
 "nbformat_minor": 2
}
